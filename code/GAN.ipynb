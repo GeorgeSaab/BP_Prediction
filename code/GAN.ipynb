{
  "cells": [
    {
      "cell_type": "markdown",
      "metadata": {
        "id": "VL5sK3q7zx0K"
      },
      "source": [
        "Final Project for BMEN4470 - Deep Learning for Biomedical Signal Processing\n",
        "\n",
        "Project Members: Amy Jang, George Saab, Mark Kirichev"
      ]
    },
    {
      "cell_type": "markdown",
      "metadata": {
        "id": "hg58xoC8bHMH"
      },
      "source": [
        "# 5 steps to implement a GAN\n",
        "\n",
        "  1. Define the GAN architecture basen on the dataset\n",
        "  2. Train the discriminator to distinguish real vs fake data\n",
        "  3. Train the generator to fake data that can fool the discriminator\n",
        "  4. Continue discriminator and generator training for multiple epochs\n",
        "  5. Save generator model to create new, realistic fake data"
      ]
    },
    {
      "cell_type": "code",
      "execution_count": null,
      "metadata": {
        "colab": {
          "base_uri": "https://localhost:8080/"
        },
        "id": "XmRNF_8PcdMM",
        "outputId": "0e5edc1a-f9f6-459b-9bb5-c788456b4812"
      },
      "outputs": [
        {
          "name": "stdout",
          "output_type": "stream",
          "text": [
            "2.7.0\n"
          ]
        }
      ],
      "source": [
        "# Imports\n",
        "\n",
        "from keras.layers import Input, Dense, Reshape, Flatten\n",
        "from keras.layers import BatchNormalization\n",
        "from keras.layers.advanced_activations import LeakyReLU\n",
        "from keras.models import Sequential, Model\n",
        "from tensorflow.keras.optimizers import Adam\n",
        "from tensorflow.keras.utils import plot_model\n",
        "from tensorflow.keras.callbacks import Callback\n",
        "\n",
        "import matplotlib.pyplot as plt\n",
        "import numpy as np\n",
        "import tensorflow as tf\n",
        "import time\n",
        "\n",
        "import sys\n",
        "import os\n",
        "import numpy as np\n",
        "from tqdm import tqdm\n",
        "import scipy.io as sio\n",
        "import pandas as pd\n",
        "\n",
        "print(tf.__version__)"
      ]
    },
    {
      "cell_type": "markdown",
      "metadata": {
        "id": "-Y8zui1tAL4-"
      },
      "source": [
        "# Connecting to Google Drive and loading the data"
      ]
    },
    {
      "cell_type": "code",
      "execution_count": null,
      "metadata": {
        "colab": {
          "base_uri": "https://localhost:8080/"
        },
        "id": "XyCIuqYhAFey",
        "outputId": "101ff74c-dbb1-4d52-8a1b-6c6770bbc911"
      },
      "outputs": [
        {
          "name": "stdout",
          "output_type": "stream",
          "text": [
            "Mounted at /gdrive\n"
          ]
        }
      ],
      "source": [
        "from google.colab import drive\n",
        "drive.mount('/gdrive', force_remount=True)"
      ]
    },
    {
      "cell_type": "code",
      "execution_count": null,
      "metadata": {
        "colab": {
          "base_uri": "https://localhost:8080/"
        },
        "id": "-c3XUP9pALOL",
        "outputId": "7551a10f-f302-4b3d-99ea-92e5f029c0fc"
      },
      "outputs": [
        {
          "name": "stdout",
          "output_type": "stream",
          "text": [
            "Available data ['Samples', 'part_12.mat', 'part_10.mat', 'part_11.mat', 'part_1.mat', 'part_3.mat', 'part_2.mat', 'part_4.mat', 'part_5.mat', 'part_7.mat', 'part_6.mat', 'part_8.mat', 'part_9.mat', 'Divided_CSV_Files', '.ipynb_checkpoints', 'generator_model_1K.h5', 'generator_model_5K.h5', 'generator_model_2K.h5', 'generator_model_4K.h5', 'generator_model_10K.h5', 'generator_model_2_9K.h5']\n",
            "Number of files 21\n"
          ]
        }
      ],
      "source": [
        "data_path = '/gdrive/MyDrive/BMEN_4470_Fall_2021/Final Project/Final_Project_Dataset'\n",
        "print('Available data', os.listdir(data_path))\n",
        "print('Number of files', len(os.listdir(data_path)))"
      ]
    },
    {
      "cell_type": "code",
      "execution_count": null,
      "metadata": {
        "colab": {
          "base_uri": "https://localhost:8080/"
        },
        "id": "XGZm_P8OBEMc",
        "outputId": "0de389a3-0a20-4c11-9e40-d3e900f50787"
      },
      "outputs": [
        {
          "name": "stdout",
          "output_type": "stream",
          "text": [
            "Number of samples: 12000\n"
          ]
        }
      ],
      "source": [
        "mats_list = []\n",
        "for i in range(1, 13):\n",
        "  current_mat_str = '/gdrive/MyDrive/BMEN_4470_Fall_2021/Final Project/Final_Project_Dataset/part_' + str(i) + '.mat'\n",
        "  mats_list.append(sio.loadmat(current_mat_str)['p'][0])\n",
        "\n",
        "data = np.concatenate(mats_list)\n",
        "total_number_of_samples = len(data)\n",
        "print(f\"Number of samples: {total_number_of_samples}\")"
      ]
    },
    {
      "cell_type": "code",
      "execution_count": null,
      "metadata": {
        "id": "TBBa4VpKCVej"
      },
      "outputs": [],
      "source": [
        "# Free the memory\n",
        "del mats_list"
      ]
    },
    {
      "cell_type": "code",
      "execution_count": null,
      "metadata": {
        "id": "k-hVxBzfnTgs"
      },
      "outputs": [],
      "source": [
        "# Split data\n",
        "\n",
        "ppg = []\n",
        "abp = []\n",
        "ecg = []\n",
        "\n",
        "for sample in data:\n",
        "  ppg.append(sample[0][:1000])\n",
        "  abp.append(sample[1][:1000])\n",
        "  ecg.append(sample[2][:1000])\n",
        "\n",
        "pd.DataFrame(ppg).to_csv('/gdrive/MyDrive/BMEN_4470_Fall_2021/Final Project/Final_Project_Dataset/Divided_CSV_Files/ppg.csv', index_label=False)\n",
        "pd.DataFrame(abp).to_csv('/gdrive/MyDrive/BMEN_4470_Fall_2021/Final Project/Final_Project_Dataset/Divided_CSV_Files/abp.csv', index_label=False)\n",
        "pd.DataFrame(ecg).to_csv('/gdrive/MyDrive/BMEN_4470_Fall_2021/Final Project/Final_Project_Dataset/Divided_CSV_Files/ecg.csv', index_label=False)"
      ]
    },
    {
      "cell_type": "code",
      "execution_count": null,
      "metadata": {
        "id": "OHt3q0DhnWib"
      },
      "outputs": [],
      "source": [
        "ppg = pd.read_csv('/gdrive/MyDrive/BMEN_4470_Fall_2021/Final Project/Final_Project_Dataset/Divided_CSV_Files/ppg.csv')\n",
        "abp = pd.read_csv('/gdrive/MyDrive/BMEN_4470_Fall_2021/Final Project/Final_Project_Dataset/Divided_CSV_Files/abp.csv')\n",
        "ecg = pd.read_csv('/gdrive/MyDrive/BMEN_4470_Fall_2021/Final Project/Final_Project_Dataset/Divided_CSV_Files/ecg.csv')"
      ]
    },
    {
      "cell_type": "code",
      "execution_count": null,
      "metadata": {
        "colab": {
          "base_uri": "https://localhost:8080/"
        },
        "id": "rpIgk82FnZGw",
        "outputId": "0724efba-e5e4-4673-f5b9-5c42c250fab8"
      },
      "outputs": [
        {
          "name": "stdout",
          "output_type": "stream",
          "text": [
            "(9600, 1000, 2) (9600, 1000)\n"
          ]
        }
      ],
      "source": [
        "data = np.stack((ppg, ecg), axis=-1)\n",
        "X_train = data[:9600]\n",
        "X_val = data[9600:10800]\n",
        "X_test = data[10800:]\n",
        "\n",
        "y_train = abp[:9600]\n",
        "y_val = abp[9600:10800]\n",
        "y_test = abp[10800:]\n",
        "\n",
        "print(X_train.shape, y_train.shape)"
      ]
    },
    {
      "cell_type": "code",
      "execution_count": null,
      "metadata": {
        "colab": {
          "base_uri": "https://localhost:8080/"
        },
        "id": "1RPiEPDWncdm",
        "outputId": "0b828d91-ca5b-4835-bc88-4d2cee2aa57b"
      },
      "outputs": [
        {
          "name": "stdout",
          "output_type": "stream",
          "text": [
            "-7.49609375\n",
            "4.5\n"
          ]
        }
      ],
      "source": [
        "# getting the global max and min values becuase we'll need them\n",
        "# for a normalization later\n",
        "\n",
        "min_X_train = np.min(X_train)\n",
        "max_X_train = np.max(X_train)\n",
        "\n",
        "print(min_X_train)\n",
        "print(max_X_train)"
      ]
    },
    {
      "cell_type": "markdown",
      "metadata": {
        "id": "diY7euPsgIQZ"
      },
      "source": [
        "# GAN Code Implementation"
      ]
    },
    {
      "cell_type": "code",
      "execution_count": null,
      "metadata": {
        "id": "r81D2Jab-dpM"
      },
      "outputs": [],
      "source": [
        "# Defining global constants\n",
        "\n",
        "signal_shape = (1000, 2)\n",
        "d_loss_list = []\n",
        "g_loss_list = []\n",
        "epoch_times = []"
      ]
    },
    {
      "cell_type": "markdown",
      "metadata": {
        "id": "eYbIWdHiiCnE"
      },
      "source": [
        "How LeakyReLu works\n",
        "\n",
        "![image.png](data:image/png;base64,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)\n",
        "\n",
        "* The alpha parameter in the following implementation represents how large the angle with the x-axis is."
      ]
    },
    {
      "cell_type": "code",
      "execution_count": null,
      "metadata": {
        "id": "nAlFxjBcgLdU"
      },
      "outputs": [],
      "source": [
        "def build_generator():\n",
        "\n",
        "    # Defining the constants\n",
        "    alpha_val = 0.2\n",
        "    momentum_val = 0.8\n",
        "    number_of_dense_layers = 3\n",
        "    initial_dense_layer_neurons = 256\n",
        "    \n",
        "    # Initializing the dense layers for the generator\n",
        "\n",
        "    dense_layers = []\n",
        "    for i in range(number_of_dense_layers):\n",
        "      dense_layers.append(initial_dense_layer_neurons << i)\n",
        "\n",
        "    # 1D array of size 100 (latent vector / noise)\n",
        "    noise_shape = (100, )\n",
        "\n",
        "\n",
        "    # Step 1: Define the GAN architecture basen on the dataset      \n",
        "    model = Sequential()\n",
        "\n",
        "    # Adding 'number_of_dense_layers' sets of:\n",
        "    # (dense layer, LeakyReLu, BatchNormalization)\n",
        "    for i, dense_layer_neurons_number in enumerate(dense_layers):\n",
        "      model.add(Dense(dense_layer_neurons_number)) if not i == 0 else model.add(Dense(dense_layer_neurons_number, input_shape=noise_shape))\n",
        "      model.add(LeakyReLU(alpha=alpha_val))\n",
        "      model.add(BatchNormalization(momentum=momentum_val))\n",
        "    \n",
        "    # Adding a final dense layer\n",
        "    model.add(Dense(np.prod(signal_shape), activation='tanh'))\n",
        "    model.add(Reshape(signal_shape))\n",
        "\n",
        "    model.build(input_shape=signal_shape)\n",
        "    model.summary()\n",
        "\n",
        "    noise = Input(shape=noise_shape)\n",
        "    signal = model(noise)    # Generated signal\n",
        "\n",
        "    return Model(noise, signal)"
      ]
    },
    {
      "cell_type": "code",
      "execution_count": null,
      "metadata": {
        "id": "iSDWPjfgFuTL"
      },
      "outputs": [],
      "source": [
        "def build_discriminator():\n",
        "\n",
        "    # Defining the constants\n",
        "    alpha_val = 0.2\n",
        "    dense_layers = [512, 256]\n",
        "\n",
        "    model = Sequential()\n",
        "\n",
        "    model.add(Flatten(input_shape=signal_shape))\n",
        "\n",
        "    for dense_layer_neurons_number in dense_layers:\n",
        "      model.add(Dense(dense_layer_neurons_number))\n",
        "      model.add(LeakyReLU(alpha=alpha_val))\n",
        "    \n",
        "    model.add(Dense(1, activation='sigmoid'))\n",
        "    model.summary()\n",
        "\n",
        "    signal = Input(shape=signal_shape)\n",
        "    validity = model(signal)\n",
        "\n",
        "    return Model(signal, validity)"
      ]
    },
    {
      "cell_type": "code",
      "execution_count": null,
      "metadata": {
        "id": "nC9NCImnGg8X"
      },
      "outputs": [],
      "source": [
        "def normalization(num):\n",
        "  k = 2 / (max_X_train - min_X_train)\n",
        "  m = (- min_X_train - max_X_train) / (max_X_train - min_X_train)\n",
        "  norm = k * num + m\n",
        "  return norm\n",
        "\n",
        "\n",
        "for sample in X_train:\n",
        "  for arr in sample:\n",
        "    arr[0] = normalization(arr[0])\n",
        "    arr[1] = normalization(arr[1])"
      ]
    },
    {
      "cell_type": "code",
      "execution_count": null,
      "metadata": {
        "id": "mB2uMAUwnqh2"
      },
      "outputs": [],
      "source": [
        "def train(epochs, batch_size=128):\n",
        "\n",
        "    half_batch = int(batch_size / 2)\n",
        "\n",
        "    # Now we start iterating over the epochs and training both our discriminator\n",
        "    # and generator, one after another. We train the discriminator first, by\n",
        "    # feeding it real data (the half_batch) then training the generator with \n",
        "    # both real and fake data (separately). After that, we compute the loss and\n",
        "    # continue to iterate until both the generator and discriminator have been trained.\n",
        "    for epoch in tqdm(range(epochs)):\n",
        "\n",
        "        # Save the times so we can analyze them after\n",
        "        initial_time_for_epoch = time.clock()\n",
        "\n",
        "        #  Train Discriminator\n",
        "\n",
        "        # Select a random half batch of real images\n",
        "        idx = np.random.randint(0, X_train.shape[0], half_batch)\n",
        "        signals = X_train[idx]\n",
        "\n",
        "        noise = np.random.normal(0, 1, (half_batch, 100))\n",
        "\n",
        "        # Generate a half batch of fake signals\n",
        "        gen_signals = generator.predict(noise)\n",
        "\n",
        "        # Train the discriminator on real and fake signals, separately\n",
        "\n",
        "        d_loss_real = discriminator.train_on_batch(signals, np.ones((half_batch, 1)))\n",
        "        d_loss_fake = discriminator.train_on_batch(gen_signals, np.zeros((half_batch, 1)))\n",
        "        \n",
        "        # calculate the average square error of the real & false predictions\n",
        "        d_loss = 0.5 * np.add(d_loss_real, d_loss_fake) \n",
        "\n",
        "        # Now it's time to train our generator. Its idea is to 'fool' the discriminator\n",
        "        # meaning that we're trying to get the discriminator to mark the fake signals\n",
        "        # as real and vice-versa\n",
        "\n",
        "        # Create noise vectors as input for generator.\n",
        "        noise = np.random.normal(0, 1, (batch_size, 100))\n",
        "\n",
        "        # The generator wants the discriminator to label the generated samples\n",
        "        # as valid (true i.e. one)\n",
        "        # This is where the genrator is trying to trick discriminator into believing\n",
        "        # the generated image is true (hence value of true (one) for y)\n",
        "        valid_y = np.array([1] * batch_size)\n",
        "\n",
        "        # Now get the general loss by training both at the same time\n",
        "        g_loss = combined.train_on_batch(noise, valid_y)\n",
        "\n",
        "\n",
        "        # In order to have some type of logging, we print the data\n",
        "        print (f\"{epoch} [D loss: {d_loss[0]}] [G loss: {g_loss}]\")\n",
        "        \n",
        "        d_loss_list.append(d_loss[0])\n",
        "        g_loss_list.append(g_loss)\n",
        "\n",
        "        if epochs % 1000 == 0:\n",
        "          number_of_thousands = int(epochs / 1000)\n",
        "          discriminator_weights_file = f'/gdrive/MyDrive/BMEN_4470_Fall_2021/Final Project/GAN_Weights/discriminator_{number_of_thousands}K'\n",
        "          generator_weights_file = f'/gdrive/MyDrive/BMEN_4470_Fall_2021/Final Project/GAN_Weights/discriminator_{number_of_thousands}K'\n",
        "          discriminator.save_weights(discriminator_weights_file)\n",
        "          generator.save_weights(generator_weights_file)\n",
        "        \n",
        "        end_time_for_epoch = time.clock()\n",
        "        epoch_times.append(end_time_for_epoch - initial_time_for_epoch)"
      ]
    },
    {
      "cell_type": "code",
      "execution_count": null,
      "metadata": {
        "id": "UPcKOkVrD9ga"
      },
      "outputs": [],
      "source": [
        "# Adding a timer callback to track the time\n",
        "\n",
        "class timecallback(Callback):\n",
        "    def __init__(self):\n",
        "        self.times = []\n",
        "        # use this value as reference to calculate cummulative time taken\n",
        "        self.timetaken = time.clock()\n",
        "    def on_epoch_end(self,epoch,logs = {}):\n",
        "        self.times.append((epoch,time.clock() - self.timetaken))\n",
        "    def on_train_end(self,logs = {}):\n",
        "        plt.xlabel('Epoch')\n",
        "        plt.ylabel('Total time taken until an epoch in seconds')\n",
        "        plt.plot(*zip(*self.times))\n",
        "        plt.show()"
      ]
    },
    {
      "cell_type": "code",
      "execution_count": null,
      "metadata": {
        "colab": {
          "background_save": true
        },
        "id": "B7867ho_nsoJ"
      },
      "outputs": [],
      "source": [
        "optimizer = Adam(0.0002, 0.5)\n",
        "\n",
        "discriminator = build_discriminator()\n",
        "discriminator.compile(loss='binary_crossentropy',\n",
        "                      optimizer=optimizer,\n",
        "                      metrics=['accuracy'])\n",
        "\n",
        "generator = build_generator()\n",
        "generator.compile(loss='binary_crossentropy', optimizer=optimizer)\n",
        "\n",
        "z = Input(shape=(100,))\n",
        "signal = generator(z)\n",
        "\n",
        "discriminator.trainable = False\n",
        "valid = discriminator(signal)\n",
        "\n",
        "combined = Model(z, valid)\n",
        "combined.compile(loss='binary_crossentropy', optimizer=optimizer)\n",
        "\n",
        "# timetaken = timecallback()\n",
        "\n",
        "train(epochs=10000, batch_size=32)\n",
        "generator.save('/gdrive/MyDrive/BMEN_4470_Fall_2021/Final Project/Final_Project_Dataset/generator_model_10K.h5')"
      ]
    },
    {
      "cell_type": "code",
      "execution_count": null,
      "metadata": {
        "id": "ShMdZEJOxitM"
      },
      "outputs": [],
      "source": [
        "from keras.models import load_model\n",
        "\n",
        "noise_to_predict = np.random.normal(0, 1, (32, 100))\n",
        "# Load the model if needed\n",
        "# generator = load_model('/gdrive/MyDrive/BMEN_4470_Fall_2021/Final Project/Final_Project_Dataset/generator_model_10K.h5')\n",
        "\n",
        "# Make a prediction\n",
        "generated_signal = generator.predict(noise_to_predict)\n",
        "print(generated_signal.shape)\n",
        "\n",
        "# Plot the time per epoch needed\n",
        "plt.plot(epoch_times[:])\n",
        "plt.plot(generated_signal[4, 700:750])\n",
        "\n",
        "# Plot the loss values for the discriminator and generator\n",
        "plt.plot(d_loss_list[:])\n",
        "plt.plot(g_loss_list[:])\n",
        "\n",
        "\n",
        "# Get the min difference between discriminator and generator loss values\n",
        "min_loss = 20\n",
        "min_i = 0\n",
        "for i in range(500, 2900):\n",
        "  if min_loss > abs(d_loss_list[i] - g_loss_list[i]):\n",
        "    min_loss = abs(d_loss_list[i] - g_loss_list[i])\n",
        "    min_i = i\n",
        "\n",
        "\n",
        "print(min_loss, min_i)"
      ]
    }
  ],
  "metadata": {
    "accelerator": "GPU",
    "colab": {
      "collapsed_sections": [],
      "name": "BMEN4470_Fall_2021_Final_Project.ipynb.txt",
      "provenance": []
    },
    "kernelspec": {
      "display_name": "Python 3",
      "name": "python3"
    },
    "language_info": {
      "name": "python"
    }
  },
  "nbformat": 4,
  "nbformat_minor": 0
}